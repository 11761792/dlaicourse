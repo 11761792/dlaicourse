{
  "nbformat": 4,
  "nbformat_minor": 0,
  "metadata": {
    "colab": {
      "name": "week1exerciseanswer.ipynb",
      "provenance": [],
      "include_colab_link": true
    },
    "kernelspec": {
      "name": "python3",
      "display_name": "Python 3"
    }
  },
  "cells": [
    {
      "cell_type": "markdown",
      "metadata": {
        "id": "view-in-github",
        "colab_type": "text"
      },
      "source": [
        "<a href=\"https://colab.research.google.com/github/lmoroney/dlaicourse/blob/master/Advanced%20TensorFlow/Custom%20Training/Week%201%20-%20Differentiation%20and%20Autogradient/week1exerciseanswer.ipynb\" target=\"_parent\"><img src=\"https://colab.research.google.com/assets/colab-badge.svg\" alt=\"Open In Colab\"/></a>"
      ]
    },
    {
      "cell_type": "code",
      "metadata": {
        "id": "i_MD3wdwHFn4",
        "colab_type": "code",
        "colab": {}
      },
      "source": [
        "#@title Licensed under the Apache License, Version 2.0 (the \"License\");\n",
        "# you may not use this file except in compliance with the License.\n",
        "# You may obtain a copy of the License at\n",
        "#\n",
        "# https://www.apache.org/licenses/LICENSE-2.0\n",
        "#\n",
        "# Unless required by applicable law or agreed to in writing, software\n",
        "# distributed under the License is distributed on an \"AS IS\" BASIS,\n",
        "# WITHOUT WARRANTIES OR CONDITIONS OF ANY KIND, either express or implied.\n",
        "# See the License for the specific language governing permissions and\n",
        "# limitations under the License."
      ],
      "execution_count": null,
      "outputs": []
    },
    {
      "cell_type": "code",
      "metadata": {
        "id": "0p84I7yFHRT2",
        "colab_type": "code",
        "colab": {}
      },
      "source": [
        "try:\n",
        "  # %tensorflow_version only exists in Colab.\n",
        "  %tensorflow_version 2.x\n",
        "except Exception:\n",
        "  pass"
      ],
      "execution_count": 1,
      "outputs": []
    },
    {
      "cell_type": "code",
      "metadata": {
        "id": "kjAHs9WGAJ7Y",
        "colab_type": "code",
        "colab": {
          "base_uri": "https://localhost:8080/",
          "height": 34
        },
        "outputId": "45a1374d-8602-4903-d780-84c410ff9f81"
      },
      "source": [
        "import numpy as np\n",
        "import random\n",
        "import tensorflow as tf\n",
        "\n",
        "\n",
        "# Loss function\n",
        "def simple_loss(real_y, pred_y):\n",
        "    return tf.abs(real_y - pred_y)\n",
        "\n",
        "\n",
        "# Training data\n",
        "x_train = np.array([-1.0,  0.0, 1.0, 2.0, 3.0, 4.0], dtype=float)\n",
        "y_train = np.array([-3.0, -1.0, 1.0, 3.0, 5.0, 7.0], dtype=float)\n",
        "\n",
        "# Trainable variables\n",
        "w = tf.Variable(random.random(), trainable=True)\n",
        "b = tf.Variable(random.random(), trainable=True)\n",
        "\n",
        "# Learning Rate\n",
        "LEARNING_RATE = 0.001\n",
        "\n",
        "def fit_data(real_x, real_y):\n",
        "    with tf.GradientTape(persistent=True) as tape:\n",
        "        # Make prediction\n",
        "        pred_y = w * real_x + b\n",
        "        # Calculate loss\n",
        "        reg_loss = simple_loss(real_y, pred_y)\n",
        "\n",
        "    # Calculate gradients\n",
        "    w_gradient = tape.gradient(reg_loss, w)\n",
        "    b_gradient = tape.gradient(reg_loss, b)\n",
        "\n",
        "    # Update variables'\n",
        "    w.assign_sub(w_gradient * LEARNING_RATE)\n",
        "    b.assign_sub(b_gradient * LEARNING_RATE)\n",
        "\n",
        "\n",
        "for _ in range(500):\n",
        "    fit_data(x_train, y_train)\n",
        "\n",
        "print(f'y ≈ {w.numpy()}x + {b.numpy()}')"
      ],
      "execution_count": 2,
      "outputs": [
        {
          "output_type": "stream",
          "text": [
            "y ≈ 1.9902112483978271x + -0.995111882686615\n"
          ],
          "name": "stdout"
        }
      ]
    }
  ]
}
